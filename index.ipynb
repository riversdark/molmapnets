{
 "cells": [
  {
   "cell_type": "markdown",
   "metadata": {},
   "source": [
    "# molmapnets\n",
    "\n",
    "> Neural networks for MolMap generated features.\n"
   ]
  },
  {
   "cell_type": "markdown",
   "metadata": {},
   "source": [
    "This package implements the neural network architects originally presented in the [MolMap package](https://github.com/shenwanxiang/bidd-molmap), with two important differences:\n",
    "\n",
    "- The package is written using literate programming so the implementation, testing, and documentation are done together. You can find the documentation on the [package blog site](https://riversdark.github.io/molmapnets/).\n",
    "- The models are implemented in PyTorch."
   ]
  },
  {
   "cell_type": "markdown",
   "metadata": {},
   "source": [
    "## Install"
   ]
  },
  {
   "cell_type": "markdown",
   "metadata": {},
   "source": [
    "First you need to install MolMap and ChemBench (you can find the detailed installation guide [here](https://github.com/shenwanxiang/bidd-molmap#installation), then simply\n",
    "\n",
    "`pip install molmapnets`"
   ]
  },
  {
   "cell_type": "markdown",
   "metadata": {},
   "source": [
    "## How to use the package"
   ]
  },
  {
   "cell_type": "code",
   "execution_count": null,
   "metadata": {},
   "outputs": [],
   "source": []
  }
 ],
 "metadata": {
  "kernelspec": {
   "display_name": "Python 3",
   "language": "python",
   "name": "python3"
  }
 },
 "nbformat": 4,
 "nbformat_minor": 4
}
