{
 "cells": [
  {
   "cell_type": "code",
   "execution_count": null,
   "id": "2f216d33",
   "metadata": {},
   "outputs": [],
   "source": [
    "# default_exp data"
   ]
  },
  {
   "cell_type": "markdown",
   "id": "0295dab7",
   "metadata": {},
   "source": [
    "# data\n",
    "> Prepare MolMap generated feature maps for training."
   ]
  },
  {
   "cell_type": "markdown",
   "id": "8f107859",
   "metadata": {},
   "source": [
    "We have basically three tasks to achieve:\n",
    "\n",
    "1. The feature maps extracted from MolMap are NumPy arrays while we need Torch tensors;\n",
    "1. In PyTorch the training data for computer vision problems takes the shape `(n_channels, hight, width)`, while the features extracted from `MolMap` take the shape `(hight, width, n_channels)`, we'll have to correct it;\n",
    "1. For model training Torch expects data stored in a `Dataset` object, we'll also need to create these objects."
   ]
  },
  {
   "cell_type": "code",
   "execution_count": null,
   "id": "f9fcae8b",
   "metadata": {},
   "outputs": [],
   "source": [
    "#export\n",
    "import numpy as np\n",
    "import torch\n",
    "from torch.utils.data import Dataset, DataLoader, random_split"
   ]
  },
  {
   "cell_type": "markdown",
   "id": "bec072cc-053a-4902-8fe8-83db6af7e793",
   "metadata": {},
   "source": [
    "The inputs are of the shape `n_samples, hight, width, n_channels`, we correct them to  `n_samples, n_channels, hight, width`"
   ]
  },
  {
   "cell_type": "code",
   "execution_count": null,
   "id": "8352b348",
   "metadata": {},
   "outputs": [
    {
     "data": {
      "text/plain": [
       "(100, 37, 37, 13)"
      ]
     },
     "execution_count": null,
     "metadata": {},
     "output_type": "execute_result"
    }
   ],
   "source": [
    "X = np.random.rand(100, 37, 37, 13)\n",
    "X.shape"
   ]
  },
  {
   "cell_type": "code",
   "execution_count": null,
   "id": "5525040b",
   "metadata": {},
   "outputs": [
    {
     "data": {
      "text/plain": [
       "torch.Size([100, 13, 37, 37])"
      ]
     },
     "execution_count": null,
     "metadata": {},
     "output_type": "execute_result"
    }
   ],
   "source": [
    "torch.movedim(torch.from_numpy(X), -1, 1).shape"
   ]
  },
  {
   "cell_type": "markdown",
   "id": "9130d0b2-7c48-400d-8098-39e53c2ee81a",
   "metadata": {},
   "source": [
    "For different tasks we can have outcomes of different shape. For regression we have a scalar output while for classifications we have a vector."
   ]
  },
  {
   "cell_type": "code",
   "execution_count": null,
   "id": "ddd31a4c",
   "metadata": {},
   "outputs": [
    {
     "data": {
      "text/plain": [
       "(100, 1)"
      ]
     },
     "execution_count": null,
     "metadata": {},
     "output_type": "execute_result"
    }
   ],
   "source": [
    "y_reg = np.random.rand(100, 1)\n",
    "y_reg.shape"
   ]
  },
  {
   "cell_type": "code",
   "execution_count": null,
   "id": "7ff03fc1",
   "metadata": {},
   "outputs": [
    {
     "data": {
      "text/plain": [
       "(100, 8)"
      ]
     },
     "execution_count": null,
     "metadata": {},
     "output_type": "execute_result"
    }
   ],
   "source": [
    "y_clf = np.random.rand(100, 8)\n",
    "y_clf.shape"
   ]
  },
  {
   "cell_type": "markdown",
   "id": "6290a5b0",
   "metadata": {},
   "source": [
    "## Single feature\n",
    "\n",
    "Now the `Dataset` object expected by Torch models, using one single feature"
   ]
  },
  {
   "cell_type": "code",
   "execution_count": null,
   "id": "4a1bf888",
   "metadata": {},
   "outputs": [],
   "source": [
    "#export\n",
    "class SingleFeatureData(Dataset):\n",
    "    \"\"\"Process single feature map for model training.\n",
    "    y: target\n",
    "    X: feature map\n",
    "    \"\"\"\n",
    "    def __init__(self, y, X, transform=None, target_transform=None):\n",
    "        self.y = torch.from_numpy(y)\n",
    "        self.X = torch.movedim(torch.from_numpy(X), -1, 1)\n",
    "        self.transform = transform\n",
    "        self.target_transform = target_transform\n",
    "\n",
    "    def __len__(self):\n",
    "        return self.y.shape[0]\n",
    "\n",
    "    def __getitem__(self, idx):\n",
    "        x = self.X[idx]\n",
    "        t = self.y[idx]\n",
    "        if self.transform:\n",
    "            x = self.transform(x)\n",
    "        if self.target_transform:\n",
    "            t = self.target_transform(t)\n",
    "        return x, t"
   ]
  },
  {
   "cell_type": "markdown",
   "id": "9ff64ae3-d90c-4ed1-b28b-839076e9d68d",
   "metadata": {},
   "source": [
    "Regression data"
   ]
  },
  {
   "cell_type": "code",
   "execution_count": null,
   "id": "10458e0c",
   "metadata": {},
   "outputs": [],
   "source": [
    "d_reg = SingleFeatureData(y_reg, X)"
   ]
  },
  {
   "cell_type": "code",
   "execution_count": null,
   "id": "bc245f40-f392-4e88-af32-26717d315c9b",
   "metadata": {},
   "outputs": [
    {
     "data": {
      "text/plain": [
       "torch.Size([100, 13, 37, 37])"
      ]
     },
     "execution_count": null,
     "metadata": {},
     "output_type": "execute_result"
    }
   ],
   "source": [
    "d_reg.X.shape"
   ]
  },
  {
   "cell_type": "code",
   "execution_count": null,
   "id": "72abf6fd-b27f-41e9-b3b4-b81a5928c3e0",
   "metadata": {},
   "outputs": [
    {
     "data": {
      "text/plain": [
       "torch.Size([100, 1])"
      ]
     },
     "execution_count": null,
     "metadata": {},
     "output_type": "execute_result"
    }
   ],
   "source": [
    "d_reg.y.shape"
   ]
  },
  {
   "cell_type": "markdown",
   "id": "d9b812d4-dee5-491f-a11e-444945276c3b",
   "metadata": {},
   "source": [
    "Split data"
   ]
  },
  {
   "cell_type": "code",
   "execution_count": null,
   "id": "c1542ef0-7b71-4de4-b485-2c832ee29d95",
   "metadata": {},
   "outputs": [
    {
     "data": {
      "text/plain": [
       "(50, 30, 20)"
      ]
     },
     "execution_count": null,
     "metadata": {},
     "output_type": "execute_result"
    }
   ],
   "source": [
    "train, val, test = random_split(d_reg, [50, 30, 20], generator=torch.Generator().manual_seed(7))\n",
    "\n",
    "len(train), len(val), len(test)"
   ]
  },
  {
   "cell_type": "code",
   "execution_count": null,
   "id": "a5e4783f",
   "metadata": {},
   "outputs": [],
   "source": [
    "train_loader = DataLoader(train, batch_size=8, shuffle=True)\n",
    "val_loader = DataLoader(val, batch_size=8, shuffle=True)\n",
    "test_loader = DataLoader(test, batch_size=8, shuffle=True)"
   ]
  },
  {
   "cell_type": "markdown",
   "id": "0e951df3",
   "metadata": {},
   "source": [
    "And we can get one batch of data by making the data loader iterable"
   ]
  },
  {
   "cell_type": "code",
   "execution_count": null,
   "id": "207b1e40",
   "metadata": {},
   "outputs": [],
   "source": [
    "x, t = next(iter(train_loader))"
   ]
  },
  {
   "cell_type": "code",
   "execution_count": null,
   "id": "4d97a30d",
   "metadata": {},
   "outputs": [
    {
     "data": {
      "text/plain": [
       "tensor([[0.7104],\n",
       "        [0.9351],\n",
       "        [0.0879],\n",
       "        [0.6092],\n",
       "        [0.3251],\n",
       "        [0.7344],\n",
       "        [0.4595],\n",
       "        [0.7092]], dtype=torch.float64)"
      ]
     },
     "execution_count": null,
     "metadata": {},
     "output_type": "execute_result"
    }
   ],
   "source": [
    "t"
   ]
  },
  {
   "cell_type": "code",
   "execution_count": null,
   "id": "92246921",
   "metadata": {},
   "outputs": [
    {
     "data": {
      "text/plain": [
       "torch.Size([8, 13, 37, 37])"
      ]
     },
     "execution_count": null,
     "metadata": {},
     "output_type": "execute_result"
    }
   ],
   "source": [
    "x.shape"
   ]
  },
  {
   "cell_type": "markdown",
   "id": "5ae0d706-a535-413b-9d70-11ee38a7f2c7",
   "metadata": {},
   "source": [
    "Classification data"
   ]
  },
  {
   "cell_type": "code",
   "execution_count": null,
   "id": "658a9679-c8c9-42d4-8a83-4e0cb620ff5b",
   "metadata": {},
   "outputs": [],
   "source": [
    "d_clf = SingleFeatureData(y_clf, X)"
   ]
  },
  {
   "cell_type": "code",
   "execution_count": null,
   "id": "81d6319d-f70e-4b58-a5d7-0c50ab2686d8",
   "metadata": {},
   "outputs": [
    {
     "data": {
      "text/plain": [
       "torch.Size([100, 13, 37, 37])"
      ]
     },
     "execution_count": null,
     "metadata": {},
     "output_type": "execute_result"
    }
   ],
   "source": [
    "d_clf.X.shape"
   ]
  },
  {
   "cell_type": "code",
   "execution_count": null,
   "id": "deffd6c7-66be-4732-ad6f-26fac1324c15",
   "metadata": {},
   "outputs": [
    {
     "data": {
      "text/plain": [
       "torch.Size([100, 8])"
      ]
     },
     "execution_count": null,
     "metadata": {},
     "output_type": "execute_result"
    }
   ],
   "source": [
    "d_clf.y.shape"
   ]
  },
  {
   "cell_type": "markdown",
   "id": "5aab9730-f43b-4224-92db-5042e8060772",
   "metadata": {},
   "source": [
    "Split data"
   ]
  },
  {
   "cell_type": "code",
   "execution_count": null,
   "id": "12c16730-f3b6-4a34-ae85-492b60611712",
   "metadata": {},
   "outputs": [
    {
     "data": {
      "text/plain": [
       "(50, 30, 20)"
      ]
     },
     "execution_count": null,
     "metadata": {},
     "output_type": "execute_result"
    }
   ],
   "source": [
    "train, val, test = random_split(d_clf, [50, 30, 20], generator=torch.Generator().manual_seed(7))\n",
    "\n",
    "len(train), len(val), len(test)"
   ]
  },
  {
   "cell_type": "code",
   "execution_count": null,
   "id": "634618b1-bf61-4f1f-8a31-c721493c4f17",
   "metadata": {},
   "outputs": [],
   "source": [
    "train_loader = DataLoader(train, batch_size=8, shuffle=True)\n",
    "val_loader = DataLoader(val, batch_size=8, shuffle=True)\n",
    "test_loader = DataLoader(test, batch_size=8, shuffle=True)"
   ]
  },
  {
   "cell_type": "markdown",
   "id": "2918973b-c4ea-44cb-843b-9a8afc00ed56",
   "metadata": {},
   "source": [
    "And we can get one batch of data by making the data loader iterable"
   ]
  },
  {
   "cell_type": "code",
   "execution_count": null,
   "id": "d2c28873-2bfe-41bd-9b5e-763f56edc16d",
   "metadata": {},
   "outputs": [],
   "source": [
    "x, t = next(iter(train_loader))"
   ]
  },
  {
   "cell_type": "code",
   "execution_count": null,
   "id": "1c60c194-aa7f-4a2a-88e3-6d98b79f155a",
   "metadata": {},
   "outputs": [
    {
     "data": {
      "text/plain": [
       "tensor([[0.8310, 0.9343, 0.9739, 0.7343, 0.3363, 0.9877, 0.7220, 0.2365],\n",
       "        [0.7070, 0.1497, 0.9926, 0.2526, 0.6560, 0.3483, 0.2039, 0.1662],\n",
       "        [0.7821, 0.8387, 0.5680, 0.8080, 0.2574, 0.7177, 0.1681, 0.9655],\n",
       "        [0.6966, 0.7496, 0.9704, 0.0409, 0.5455, 0.4679, 0.1694, 0.7986],\n",
       "        [0.4942, 0.2321, 0.6251, 0.0752, 0.2691, 0.9629, 0.6358, 0.1475],\n",
       "        [0.0159, 0.9606, 0.3611, 0.4873, 0.6847, 0.2638, 0.8886, 0.5483],\n",
       "        [0.9255, 0.7321, 0.9346, 0.9178, 0.5032, 0.4853, 0.4863, 0.8786],\n",
       "        [0.9479, 0.0577, 0.3369, 0.2861, 0.2183, 0.3099, 0.5837, 0.3486]],\n",
       "       dtype=torch.float64)"
      ]
     },
     "execution_count": null,
     "metadata": {},
     "output_type": "execute_result"
    }
   ],
   "source": [
    "t"
   ]
  },
  {
   "cell_type": "code",
   "execution_count": null,
   "id": "b786cc69-d704-41d7-83b5-00436f0cdb88",
   "metadata": {},
   "outputs": [
    {
     "data": {
      "text/plain": [
       "torch.Size([8, 13, 37, 37])"
      ]
     },
     "execution_count": null,
     "metadata": {},
     "output_type": "execute_result"
    }
   ],
   "source": [
    "x.shape"
   ]
  },
  {
   "cell_type": "markdown",
   "id": "a6b8ab69",
   "metadata": {},
   "source": [
    "## Double features\n",
    "\n",
    "And dataset using two features"
   ]
  },
  {
   "cell_type": "code",
   "execution_count": null,
   "id": "f4918669",
   "metadata": {},
   "outputs": [],
   "source": [
    "#export\n",
    "class DoubleFeatureData(Dataset):\n",
    "    \"\"\"Process single feature map for model training.\n",
    "    y: target\n",
    "    X: tuple of two feature maps\n",
    "    \"\"\"\n",
    "    def __init__(self, y, X, transform=None, target_transform=None):\n",
    "        X1, X2 = X\n",
    "        self.y = torch.from_numpy(y)\n",
    "        self.X1 = torch.movedim(torch.from_numpy(X1), -1, 1)\n",
    "        self.X2 = torch.movedim(torch.from_numpy(X2), -1, 1)\n",
    "        self.transform = transform\n",
    "        self.target_transform = target_transform\n",
    "\n",
    "    def __len__(self):\n",
    "        return self.y.shape[0]\n",
    "\n",
    "    def __getitem__(self, idx):\n",
    "        x1 = self.X1[idx]\n",
    "        x2 = self.X2[idx]\n",
    "        t = self.y[idx]\n",
    "        if self.transform:\n",
    "            x1 = self.transform(x1)\n",
    "            x2 = self.transform(x2)\n",
    "        if self.target_transform:\n",
    "            t = self.target_transform(t)\n",
    "        return (x1, x2), t"
   ]
  },
  {
   "cell_type": "code",
   "execution_count": null,
   "id": "200e3620-2c22-4be4-92a0-dc960cb1db29",
   "metadata": {},
   "outputs": [
    {
     "data": {
      "text/plain": [
       "((100, 37, 37, 13), (100, 37, 37, 3))"
      ]
     },
     "execution_count": null,
     "metadata": {},
     "output_type": "execute_result"
    }
   ],
   "source": [
    "X1 = np.random.rand(100, 37, 37, 13)\n",
    "X2 = np.random.rand(100, 37, 37, 3)\n",
    "X1.shape, X2.shape"
   ]
  },
  {
   "cell_type": "code",
   "execution_count": null,
   "id": "58fa60e5-cc18-405c-8485-73b89ef05625",
   "metadata": {},
   "outputs": [],
   "source": [
    "d_reg = DoubleFeatureData(y_reg, (X1, X2))"
   ]
  },
  {
   "cell_type": "code",
   "execution_count": null,
   "id": "a3556387-eba6-4d86-8d4b-01c6dcecab3c",
   "metadata": {},
   "outputs": [
    {
     "data": {
      "text/plain": [
       "(torch.Size([100, 13, 37, 37]), torch.Size([100, 3, 37, 37]))"
      ]
     },
     "execution_count": null,
     "metadata": {},
     "output_type": "execute_result"
    }
   ],
   "source": [
    "d_reg.X1.shape, d_reg.X2.shape"
   ]
  },
  {
   "cell_type": "code",
   "execution_count": null,
   "id": "8dccdda9-dfa6-461a-b0c2-260aaa7690bf",
   "metadata": {},
   "outputs": [
    {
     "data": {
      "text/plain": [
       "torch.Size([100, 1])"
      ]
     },
     "execution_count": null,
     "metadata": {},
     "output_type": "execute_result"
    }
   ],
   "source": [
    "d_reg.y.shape"
   ]
  },
  {
   "cell_type": "markdown",
   "id": "c3535f21-d83a-4bc1-9316-3837be51f115",
   "metadata": {},
   "source": [
    "Split data"
   ]
  },
  {
   "cell_type": "code",
   "execution_count": null,
   "id": "5134e90a-2aed-4e51-bcf7-6784890a84d1",
   "metadata": {},
   "outputs": [
    {
     "data": {
      "text/plain": [
       "(50, 30, 20)"
      ]
     },
     "execution_count": null,
     "metadata": {},
     "output_type": "execute_result"
    }
   ],
   "source": [
    "train, val, test = random_split(d_reg, [50, 30, 20], generator=torch.Generator().manual_seed(7))\n",
    "\n",
    "len(train), len(val), len(test)"
   ]
  },
  {
   "cell_type": "code",
   "execution_count": null,
   "id": "9364f359-a249-495e-9ef3-89a3be3222c0",
   "metadata": {},
   "outputs": [],
   "source": [
    "train_loader = DataLoader(train, batch_size=8, shuffle=True)\n",
    "val_loader = DataLoader(val, batch_size=8, shuffle=True)\n",
    "test_loader = DataLoader(test, batch_size=8, shuffle=True)"
   ]
  },
  {
   "cell_type": "markdown",
   "id": "e63cf1bb-d460-41c1-90a3-1cc555ee6f2e",
   "metadata": {},
   "source": [
    "And we can get one batch of data by making the data loader iterable"
   ]
  },
  {
   "cell_type": "code",
   "execution_count": null,
   "id": "2a658f91-a922-4da6-8bf9-245b74485a8a",
   "metadata": {},
   "outputs": [],
   "source": [
    "x, t = next(iter(train_loader))"
   ]
  },
  {
   "cell_type": "code",
   "execution_count": null,
   "id": "91ca8abd-70ec-4def-93f9-edf281544271",
   "metadata": {},
   "outputs": [
    {
     "data": {
      "text/plain": [
       "tensor([[0.7344],\n",
       "        [0.4688],\n",
       "        [0.6977],\n",
       "        [0.5588],\n",
       "        [0.3702],\n",
       "        [0.0779],\n",
       "        [0.8502],\n",
       "        [0.7523]], dtype=torch.float64)"
      ]
     },
     "execution_count": null,
     "metadata": {},
     "output_type": "execute_result"
    }
   ],
   "source": [
    "t"
   ]
  },
  {
   "cell_type": "code",
   "execution_count": null,
   "id": "cd865c8f-f635-418b-8d57-658172dc8b78",
   "metadata": {},
   "outputs": [
    {
     "data": {
      "text/plain": [
       "(torch.Size([8, 13, 37, 37]), torch.Size([8, 3, 37, 37]))"
      ]
     },
     "execution_count": null,
     "metadata": {},
     "output_type": "execute_result"
    }
   ],
   "source": [
    "x1, x2 = x\n",
    "x1.shape, x2.shape"
   ]
  },
  {
   "cell_type": "code",
   "execution_count": null,
   "id": "9b79662d-86c2-448c-adb6-7ca46d461fc4",
   "metadata": {},
   "outputs": [],
   "source": []
  }
 ],
 "metadata": {
  "kernelspec": {
   "display_name": "Python 3",
   "language": "python",
   "name": "python3"
  }
 },
 "nbformat": 4,
 "nbformat_minor": 5
}
