{
 "cells": [
  {
   "cell_type": "code",
   "execution_count": null,
   "metadata": {},
   "outputs": [],
   "source": [
    "# default_exp models"
   ]
  },
  {
   "cell_type": "markdown",
   "metadata": {},
   "source": [
    "# models\n",
    "> The end models for regression and classification."
   ]
  },
  {
   "cell_type": "markdown",
   "metadata": {},
   "source": [
    "These are the models for specific tasks, like regression, multi-class classification and multi-label classification. In all these models we can choose to use single path MolMap architecture, which includes only one of descriptor map or fingerprint map, or double path MolMap, which combines the two.\n",
    "\n",
    "These models are thin wrappers of MolMap nets, with different outcome activation functions."
   ]
  },
  {
   "cell_type": "code",
   "execution_count": null,
   "metadata": {},
   "outputs": [],
   "source": [
    "#export\n",
    "import torch\n",
    "from torch import nn\n",
    "import torch.nn.functional as F\n",
    "\n",
    "from molmapnets.nets import SinglePathMolMapNet, DoublePathMolMapNet"
   ]
  },
  {
   "cell_type": "markdown",
   "metadata": {},
   "source": [
    "## Regression\n",
    "\n",
    "For regression the activation function is just another fully connected layer with output size 1."
   ]
  },
  {
   "cell_type": "code",
   "execution_count": null,
   "metadata": {},
   "outputs": [],
   "source": [
    "#export\n",
    "class MolMapRegression(nn.Module):\n",
    "    \"Mol Map nets used for regression\"\n",
    "    def __init__(self, conv_in1=13, conv_in2=None, conv_size=13):\n",
    "        super(MolMapRegression, self).__init__()\n",
    "        \n",
    "        if conv_in2 is None:        \n",
    "            self.net = SinglePathMolMapNet(conv_in=conv_in1, FC=[128, 32])\n",
    "            self.single = True\n",
    "        else:\n",
    "            self.net = DoublePathMolMapNet(conv_in1=conv_in1, conv_in2=conv_in2, FC=[256, 128, 32])\n",
    "            self.single = False\n",
    "            \n",
    "        self.fc = nn.Linear(32, 1)\n",
    "        \n",
    "    def forward(self, x): \n",
    "        \"x: Tensor or tuple of Tensors\"\n",
    "        if self.single:\n",
    "            x = self.net(x)\n",
    "        else:\n",
    "            x1, x2 = x\n",
    "            x = self.net(x1, x2)\n",
    "        \n",
    "        return self.fc(x)"
   ]
  },
  {
   "cell_type": "markdown",
   "metadata": {},
   "source": [
    "Single path, descriptor"
   ]
  },
  {
   "cell_type": "code",
   "execution_count": null,
   "metadata": {},
   "outputs": [
    {
     "name": "stderr",
     "output_type": "stream",
     "text": [
      "/Users/olivier/opt/anaconda3/envs/molmap/lib/python3.6/site-packages/torch/nn/functional.py:718: UserWarning: Named tensors and all their associated APIs are an experimental feature and subject to change. Please do not use them for anything important until they are released as stable. (Triggered internally at  ../c10/core/TensorImpl.h:1156.)\n",
      "  return torch.max_pool2d(input, kernel_size, stride, padding, dilation, ceil_mode)\n"
     ]
    },
    {
     "data": {
      "text/plain": [
       "torch.Size([10, 1])"
      ]
     },
     "execution_count": null,
     "metadata": {},
     "output_type": "execute_result"
    }
   ],
   "source": [
    "descriptor = MolMapRegression()\n",
    "\n",
    "i = torch.rand((10, 13, 37, 37))\n",
    "o = descriptor(i)\n",
    "o.shape"
   ]
  },
  {
   "cell_type": "markdown",
   "metadata": {},
   "source": [
    "Single path, fingerprint"
   ]
  },
  {
   "cell_type": "code",
   "execution_count": null,
   "metadata": {},
   "outputs": [
    {
     "data": {
      "text/plain": [
       "torch.Size([10, 1])"
      ]
     },
     "execution_count": null,
     "metadata": {},
     "output_type": "execute_result"
    }
   ],
   "source": [
    "fingerprint = MolMapRegression(conv_in1=3)\n",
    "\n",
    "i = torch.rand((10, 3, 37, 36))\n",
    "o = fingerprint(i)\n",
    "o.shape"
   ]
  },
  {
   "cell_type": "markdown",
   "metadata": {},
   "source": [
    "If the network is double path then we pass in a tuple of inputs"
   ]
  },
  {
   "cell_type": "code",
   "execution_count": null,
   "metadata": {},
   "outputs": [
    {
     "data": {
      "text/plain": [
       "torch.Size([10, 1])"
      ]
     },
     "execution_count": null,
     "metadata": {},
     "output_type": "execute_result"
    }
   ],
   "source": [
    "double_path = MolMapRegression(conv_in1=13, conv_in2=3)\n",
    "\n",
    "i1 = torch.rand((10, 13, 37, 37))\n",
    "i2 = torch.rand((10, 3, 37, 36))\n",
    "o = double_path((i1, i2))\n",
    "o.shape"
   ]
  },
  {
   "cell_type": "markdown",
   "metadata": {},
   "source": [
    "## Multi-class classification\n",
    "\n",
    "For multi-class classification we use the softmax activation function. Softmax transforms a vector so that each value in the vector falls between 0 and 1 and the vector sums to one. It's the logistic transformation generalised to vectors. In practice we use [logsoftmax](https://pytorch.org/docs/stable/generated/torch.nn.LogSoftmax.html) because it's computationally more stable. "
   ]
  },
  {
   "cell_type": "code",
   "execution_count": null,
   "metadata": {},
   "outputs": [],
   "source": [
    "#export\n",
    "class MolMapMultiClassClassification(nn.Module):\n",
    "    \"MolMap nets used for multi-class classification\"\n",
    "    def __init__(self, conv_in1=13, conv_in2=None, conv_size=13, n_class=10):\n",
    "        super(MolMapMultiClassClassification, self).__init__()\n",
    "        \n",
    "        if conv_in2 is None:        \n",
    "            self.net = SinglePathMolMapNet(conv_in=conv_in1, FC=[128, 32])\n",
    "            self.single = True\n",
    "        else:\n",
    "            self.net = DoublePathMolMapNet(conv_in1=conv_in1, conv_in2=conv_in2, FC=[256, 128, 32])\n",
    "            self.single = False\n",
    "\n",
    "        self.fc = nn.Linear(32, n_class)\n",
    "                    \n",
    "    def forward(self, x): \n",
    "        \"x: Tensor or tuple of Tensors\"\n",
    "        if self.single:\n",
    "            x = self.net(x)\n",
    "        else:\n",
    "            x1, x2 = x\n",
    "            x = self.net(x1, x2)\n",
    "            \n",
    "        x = self.fc(x) \n",
    "        \n",
    "        return F.log_softmax(x, dim=1)"
   ]
  },
  {
   "cell_type": "markdown",
   "metadata": {},
   "source": [
    "Single path, descriptor"
   ]
  },
  {
   "cell_type": "code",
   "execution_count": null,
   "metadata": {},
   "outputs": [
    {
     "data": {
      "text/plain": [
       "torch.Size([10, 10])"
      ]
     },
     "execution_count": null,
     "metadata": {},
     "output_type": "execute_result"
    }
   ],
   "source": [
    "descriptor = MolMapMultiClassClassification()\n",
    "\n",
    "i = torch.rand((10, 13, 37, 37))\n",
    "o = descriptor(i)\n",
    "o.shape"
   ]
  },
  {
   "cell_type": "code",
   "execution_count": null,
   "metadata": {},
   "outputs": [
    {
     "data": {
      "text/plain": [
       "tensor([1.0000, 1.0000, 1.0000, 1.0000, 1.0000, 1.0000, 1.0000, 1.0000, 1.0000,\n",
       "        1.0000], grad_fn=<SumBackward1>)"
      ]
     },
     "execution_count": null,
     "metadata": {},
     "output_type": "execute_result"
    }
   ],
   "source": [
    "o.exp().sum(dim=1)"
   ]
  },
  {
   "cell_type": "markdown",
   "metadata": {},
   "source": [
    "Single path, fingerprint"
   ]
  },
  {
   "cell_type": "code",
   "execution_count": null,
   "metadata": {},
   "outputs": [
    {
     "data": {
      "text/plain": [
       "torch.Size([10, 10])"
      ]
     },
     "execution_count": null,
     "metadata": {},
     "output_type": "execute_result"
    }
   ],
   "source": [
    "fingerprint = MolMapMultiClassClassification(conv_in1=3)\n",
    "\n",
    "i = torch.rand((10, 3, 37, 36))\n",
    "o = fingerprint(i)\n",
    "o.shape"
   ]
  },
  {
   "cell_type": "code",
   "execution_count": null,
   "metadata": {},
   "outputs": [
    {
     "data": {
      "text/plain": [
       "tensor([1.0000, 1.0000, 1.0000, 1.0000, 1.0000, 1.0000, 1.0000, 1.0000, 1.0000,\n",
       "        1.0000], grad_fn=<SumBackward1>)"
      ]
     },
     "execution_count": null,
     "metadata": {},
     "output_type": "execute_result"
    }
   ],
   "source": [
    "o.exp().sum(dim=1)"
   ]
  },
  {
   "cell_type": "markdown",
   "metadata": {},
   "source": [
    "If the network is double path then we pass in a tuple of inputs"
   ]
  },
  {
   "cell_type": "code",
   "execution_count": null,
   "metadata": {},
   "outputs": [
    {
     "data": {
      "text/plain": [
       "torch.Size([10, 10])"
      ]
     },
     "execution_count": null,
     "metadata": {},
     "output_type": "execute_result"
    }
   ],
   "source": [
    "double_path = MolMapMultiClassClassification(conv_in1=13, conv_in2=3)\n",
    "\n",
    "i1 = torch.rand((10, 13, 37, 37))\n",
    "i2 = torch.rand((10, 3, 37, 36))\n",
    "o = double_path((i1, i2))\n",
    "o.shape"
   ]
  },
  {
   "cell_type": "code",
   "execution_count": null,
   "metadata": {},
   "outputs": [
    {
     "data": {
      "text/plain": [
       "tensor([1.0000, 1.0000, 1.0000, 1.0000, 1.0000, 1.0000, 1.0000, 1.0000, 1.0000,\n",
       "        1.0000], grad_fn=<SumBackward1>)"
      ]
     },
     "execution_count": null,
     "metadata": {},
     "output_type": "execute_result"
    }
   ],
   "source": [
    "o.exp().sum(dim=1)"
   ]
  },
  {
   "cell_type": "markdown",
   "metadata": {},
   "source": [
    "## Multi-label classification\n",
    "\n",
    "For multi-label classification, each input can have multiple labels, and the belonging to one label is independent of belonging to the others, so we'll use the Sigmoid activation function. \n",
    "\n",
    "Compared to the multi-class problem, we only have to switch the soft max activation to sigmoid."
   ]
  },
  {
   "cell_type": "code",
   "execution_count": null,
   "metadata": {},
   "outputs": [],
   "source": [
    "#export\n",
    "class MolMapMultiLabelClassification(nn.Module):\n",
    "    \"MolMap nets used for multi-label classification\"\n",
    "    def __init__(self, conv_in1=13, conv_in2=None, conv_size=13, n_label=5):\n",
    "        super(MolMapMultiLabelClassification, self).__init__()\n",
    "        \n",
    "        if conv_in2 is None:        \n",
    "            self.net = SinglePathMolMapNet(conv_in=conv_in1, FC=[128, 32])\n",
    "            self.single = True\n",
    "        else:\n",
    "            self.net = DoublePathMolMapNet(conv_in1=conv_in1, conv_in2=conv_in2, FC=[256, 128, 32])\n",
    "            self.single = False\n",
    "\n",
    "        self.fc = nn.Linear(32, n_label)\n",
    "                    \n",
    "    def forward(self, x): \n",
    "        \"x: Tensor or tuple of Tensors\"\n",
    "        if self.single:\n",
    "            x = self.net(x)\n",
    "        else:\n",
    "            x1, x2 = x\n",
    "            x = self.net(x1, x2)\n",
    "            \n",
    "        x = self.fc(x) \n",
    "        \n",
    "        return torch.sigmoid(x)"
   ]
  },
  {
   "cell_type": "markdown",
   "metadata": {},
   "source": [
    "Single path, descriptor"
   ]
  },
  {
   "cell_type": "code",
   "execution_count": null,
   "metadata": {},
   "outputs": [
    {
     "data": {
      "text/plain": [
       "torch.Size([10, 5])"
      ]
     },
     "execution_count": null,
     "metadata": {},
     "output_type": "execute_result"
    }
   ],
   "source": [
    "descriptor = MolMapMultiLabelClassification()\n",
    "\n",
    "i = torch.rand((10, 13, 37, 37))\n",
    "o = descriptor(i)\n",
    "o.shape"
   ]
  },
  {
   "cell_type": "code",
   "execution_count": null,
   "metadata": {},
   "outputs": [
    {
     "data": {
      "text/plain": [
       "tensor([[0.5123, 0.4982, 0.5085, 0.5067, 0.5225],\n",
       "        [0.5123, 0.4992, 0.5087, 0.5077, 0.5228],\n",
       "        [0.5125, 0.4983, 0.5086, 0.5074, 0.5222],\n",
       "        [0.5125, 0.4987, 0.5087, 0.5073, 0.5226],\n",
       "        [0.5123, 0.4988, 0.5077, 0.5072, 0.5219],\n",
       "        [0.5125, 0.4985, 0.5080, 0.5074, 0.5222],\n",
       "        [0.5125, 0.4988, 0.5086, 0.5076, 0.5221],\n",
       "        [0.5128, 0.4988, 0.5084, 0.5072, 0.5218],\n",
       "        [0.5126, 0.4984, 0.5087, 0.5073, 0.5226],\n",
       "        [0.5123, 0.4985, 0.5078, 0.5077, 0.5222]], grad_fn=<SigmoidBackward>)"
      ]
     },
     "execution_count": null,
     "metadata": {},
     "output_type": "execute_result"
    }
   ],
   "source": [
    "o"
   ]
  },
  {
   "cell_type": "markdown",
   "metadata": {},
   "source": [
    "Single path, fingerprint"
   ]
  },
  {
   "cell_type": "code",
   "execution_count": null,
   "metadata": {},
   "outputs": [
    {
     "data": {
      "text/plain": [
       "torch.Size([10, 5])"
      ]
     },
     "execution_count": null,
     "metadata": {},
     "output_type": "execute_result"
    }
   ],
   "source": [
    "fingerprint = MolMapMultiLabelClassification(conv_in1=3)\n",
    "\n",
    "i = torch.rand((10, 3, 37, 36))\n",
    "o = fingerprint(i)\n",
    "o.shape"
   ]
  },
  {
   "cell_type": "code",
   "execution_count": null,
   "metadata": {},
   "outputs": [
    {
     "data": {
      "text/plain": [
       "tensor([[0.5306, 0.4968, 0.5135, 0.4851, 0.4569],\n",
       "        [0.5307, 0.4966, 0.5134, 0.4842, 0.4570],\n",
       "        [0.5302, 0.4965, 0.5129, 0.4842, 0.4578],\n",
       "        [0.5305, 0.4962, 0.5133, 0.4845, 0.4575],\n",
       "        [0.5306, 0.4966, 0.5131, 0.4845, 0.4570],\n",
       "        [0.5302, 0.4966, 0.5130, 0.4846, 0.4574],\n",
       "        [0.5309, 0.4965, 0.5136, 0.4844, 0.4573],\n",
       "        [0.5306, 0.4966, 0.5132, 0.4848, 0.4575],\n",
       "        [0.5302, 0.4970, 0.5131, 0.4845, 0.4572],\n",
       "        [0.5306, 0.4965, 0.5130, 0.4848, 0.4574]], grad_fn=<SigmoidBackward>)"
      ]
     },
     "execution_count": null,
     "metadata": {},
     "output_type": "execute_result"
    }
   ],
   "source": [
    "o"
   ]
  },
  {
   "cell_type": "markdown",
   "metadata": {},
   "source": [
    "If the network is double path then we pass in a tuple of inputs"
   ]
  },
  {
   "cell_type": "code",
   "execution_count": null,
   "metadata": {},
   "outputs": [
    {
     "data": {
      "text/plain": [
       "torch.Size([10, 5])"
      ]
     },
     "execution_count": null,
     "metadata": {},
     "output_type": "execute_result"
    }
   ],
   "source": [
    "double_path = MolMapMultiLabelClassification(conv_in1=13, conv_in2=3)\n",
    "\n",
    "i1 = torch.rand((10, 13, 37, 37))\n",
    "i2 = torch.rand((10, 3, 37, 36))\n",
    "o = double_path((i1, i2))\n",
    "o.shape"
   ]
  },
  {
   "cell_type": "code",
   "execution_count": null,
   "metadata": {},
   "outputs": [
    {
     "data": {
      "text/plain": [
       "tensor([[0.5373, 0.4629, 0.5402, 0.5400, 0.4900],\n",
       "        [0.5374, 0.4630, 0.5404, 0.5398, 0.4901],\n",
       "        [0.5372, 0.4630, 0.5405, 0.5399, 0.4899],\n",
       "        [0.5374, 0.4630, 0.5406, 0.5401, 0.4899],\n",
       "        [0.5374, 0.4630, 0.5403, 0.5400, 0.4902],\n",
       "        [0.5373, 0.4628, 0.5405, 0.5399, 0.4899],\n",
       "        [0.5373, 0.4629, 0.5404, 0.5398, 0.4901],\n",
       "        [0.5375, 0.4629, 0.5406, 0.5401, 0.4897],\n",
       "        [0.5372, 0.4628, 0.5405, 0.5399, 0.4900],\n",
       "        [0.5373, 0.4629, 0.5405, 0.5399, 0.4900]], grad_fn=<SigmoidBackward>)"
      ]
     },
     "execution_count": null,
     "metadata": {},
     "output_type": "execute_result"
    }
   ],
   "source": [
    "o"
   ]
  },
  {
   "cell_type": "markdown",
   "metadata": {},
   "source": [
    "Switch the order of descriptor and fingerprint map"
   ]
  },
  {
   "cell_type": "code",
   "execution_count": null,
   "metadata": {},
   "outputs": [
    {
     "data": {
      "text/plain": [
       "torch.Size([10, 5])"
      ]
     },
     "execution_count": null,
     "metadata": {},
     "output_type": "execute_result"
    }
   ],
   "source": [
    "double_path = MolMapMultiLabelClassification(conv_in1=3, conv_in2=13)\n",
    "\n",
    "i1 = torch.rand((10, 13, 37, 37))\n",
    "i2 = torch.rand((10, 3, 37, 36))\n",
    "o = double_path((i2, i1))\n",
    "o.shape"
   ]
  },
  {
   "cell_type": "code",
   "execution_count": null,
   "metadata": {},
   "outputs": [
    {
     "data": {
      "text/plain": [
       "tensor([[0.5157, 0.5316, 0.5249, 0.5016, 0.5349],\n",
       "        [0.5154, 0.5318, 0.5249, 0.5018, 0.5351],\n",
       "        [0.5159, 0.5318, 0.5249, 0.5016, 0.5348],\n",
       "        [0.5157, 0.5317, 0.5248, 0.5016, 0.5347],\n",
       "        [0.5159, 0.5318, 0.5249, 0.5015, 0.5352],\n",
       "        [0.5159, 0.5318, 0.5248, 0.5015, 0.5348],\n",
       "        [0.5158, 0.5317, 0.5249, 0.5015, 0.5347],\n",
       "        [0.5159, 0.5317, 0.5248, 0.5016, 0.5349],\n",
       "        [0.5156, 0.5316, 0.5247, 0.5017, 0.5350],\n",
       "        [0.5159, 0.5316, 0.5248, 0.5016, 0.5350]], grad_fn=<SigmoidBackward>)"
      ]
     },
     "execution_count": null,
     "metadata": {},
     "output_type": "execute_result"
    }
   ],
   "source": [
    "o"
   ]
  },
  {
   "cell_type": "code",
   "execution_count": null,
   "metadata": {},
   "outputs": [],
   "source": []
  }
 ],
 "metadata": {
  "kernelspec": {
   "display_name": "Python 3",
   "language": "python",
   "name": "python3"
  }
 },
 "nbformat": 4,
 "nbformat_minor": 4
}
