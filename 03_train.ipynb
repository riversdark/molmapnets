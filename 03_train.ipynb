{
 "cells": [
  {
   "cell_type": "code",
   "execution_count": null,
   "id": "4536199e-3dcb-43eb-a008-3b6bbb4eb6a5",
   "metadata": {},
   "outputs": [],
   "source": [
    "# default_exp train"
   ]
  },
  {
   "cell_type": "markdown",
   "id": "99879e47-8b8c-44b5-9b5b-f77021add063",
   "metadata": {},
   "source": [
    "# train\n",
    "> Packaged training loops for molmap networks."
   ]
  }
 ],
 "metadata": {
  "kernelspec": {
   "display_name": "Python 3",
   "language": "python",
   "name": "python3"
  }
 },
 "nbformat": 4,
 "nbformat_minor": 5
}
