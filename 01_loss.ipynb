{
 "cells": [
  {
   "cell_type": "code",
   "execution_count": null,
   "metadata": {},
   "outputs": [],
   "source": [
    "# default_exp loss"
   ]
  },
  {
   "cell_type": "markdown",
   "metadata": {},
   "source": [
    "# loss\n",
    "> Loss functions."
   ]
  },
  {
   "cell_type": "code",
   "execution_count": null,
   "metadata": {},
   "outputs": [],
   "source": [
    "#export\n",
    "import tensorflow as tf\n",
    "from sklearn.metrics import roc_auc_score\n",
    "import numpy as np\n"
   ]
  },
  {
   "cell_type": "code",
   "execution_count": null,
   "metadata": {},
   "outputs": [],
   "source": [
    "#export\n",
    "def cross_entropy(y_true, y_pred, MASK = -1):\n",
    "    mask = tf.cast(tf.not_equal(y_true, MASK), tf.keras.backend.floatx())\n",
    "    labels = y_true * mask\n",
    "    logits = y_pred * mask\n",
    "    cost = tf.nn.sigmoid_cross_entropy_with_logits(labels=labels, logits=logits)\n",
    "    return cost"
   ]
  },
  {
   "cell_type": "code",
   "execution_count": null,
   "metadata": {},
   "outputs": [],
   "source": [
    "#export\n",
    "def weighted_cross_entropy(y_true, y_pred, pos_weight, MASK = -1):\n",
    "    \n",
    "    mask = tf.cast(tf.not_equal(y_true, MASK), tf.keras.backend.floatx())\n",
    "    labels = y_true * mask\n",
    "    logits = y_pred * mask    \n",
    "    cost = tf.nn.weighted_cross_entropy_with_logits(labels=labels, logits=logits, \n",
    "                                                    pos_weight = pos_weight)\n",
    "    return cost"
   ]
  },
  {
   "cell_type": "code",
   "execution_count": null,
   "metadata": {},
   "outputs": [],
   "source": [
    "#export\n",
    "def MALE(y_obs, y_pred):\n",
    "    return tf.keras.backend.log(0.5 + tf.keras.backend.abs(y_pred - y_obs))"
   ]
  }
 ],
 "metadata": {
  "kernelspec": {
   "display_name": "Python 3",
   "language": "python",
   "name": "python3"
  }
 },
 "nbformat": 4,
 "nbformat_minor": 4
}
