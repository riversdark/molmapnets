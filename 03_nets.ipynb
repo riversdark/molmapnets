{
 "cells": [
  {
   "cell_type": "code",
   "execution_count": null,
   "metadata": {},
   "outputs": [],
   "source": [
    "# default_exp nets"
   ]
  },
  {
   "cell_type": "markdown",
   "metadata": {},
   "source": [
    "# nets\n",
    "> The neural network architects."
   ]
  },
  {
   "cell_type": "code",
   "execution_count": null,
   "metadata": {},
   "outputs": [
    {
     "name": "stderr",
     "output_type": "stream",
     "text": [
      "/Users/olivier/.local/lib/python3.6/site-packages/tensorflow/python/framework/dtypes.py:516: FutureWarning: Passing (type, 1) or '1type' as a synonym of type is deprecated; in a future version of numpy, it will be understood as (type, (1,)) / '(1,)type'.\n",
      "  _np_qint8 = np.dtype([(\"qint8\", np.int8, 1)])\n",
      "/Users/olivier/.local/lib/python3.6/site-packages/tensorflow/python/framework/dtypes.py:517: FutureWarning: Passing (type, 1) or '1type' as a synonym of type is deprecated; in a future version of numpy, it will be understood as (type, (1,)) / '(1,)type'.\n",
      "  _np_quint8 = np.dtype([(\"quint8\", np.uint8, 1)])\n",
      "/Users/olivier/.local/lib/python3.6/site-packages/tensorflow/python/framework/dtypes.py:518: FutureWarning: Passing (type, 1) or '1type' as a synonym of type is deprecated; in a future version of numpy, it will be understood as (type, (1,)) / '(1,)type'.\n",
      "  _np_qint16 = np.dtype([(\"qint16\", np.int16, 1)])\n",
      "/Users/olivier/.local/lib/python3.6/site-packages/tensorflow/python/framework/dtypes.py:519: FutureWarning: Passing (type, 1) or '1type' as a synonym of type is deprecated; in a future version of numpy, it will be understood as (type, (1,)) / '(1,)type'.\n",
      "  _np_quint16 = np.dtype([(\"quint16\", np.uint16, 1)])\n",
      "/Users/olivier/.local/lib/python3.6/site-packages/tensorflow/python/framework/dtypes.py:520: FutureWarning: Passing (type, 1) or '1type' as a synonym of type is deprecated; in a future version of numpy, it will be understood as (type, (1,)) / '(1,)type'.\n",
      "  _np_qint32 = np.dtype([(\"qint32\", np.int32, 1)])\n",
      "/Users/olivier/.local/lib/python3.6/site-packages/tensorflow/python/framework/dtypes.py:525: FutureWarning: Passing (type, 1) or '1type' as a synonym of type is deprecated; in a future version of numpy, it will be understood as (type, (1,)) / '(1,)type'.\n",
      "  np_resource = np.dtype([(\"resource\", np.ubyte, 1)])\n",
      "/Users/olivier/.local/lib/python3.6/site-packages/tensorboard/compat/tensorflow_stub/dtypes.py:541: FutureWarning: Passing (type, 1) or '1type' as a synonym of type is deprecated; in a future version of numpy, it will be understood as (type, (1,)) / '(1,)type'.\n",
      "  _np_qint8 = np.dtype([(\"qint8\", np.int8, 1)])\n",
      "/Users/olivier/.local/lib/python3.6/site-packages/tensorboard/compat/tensorflow_stub/dtypes.py:542: FutureWarning: Passing (type, 1) or '1type' as a synonym of type is deprecated; in a future version of numpy, it will be understood as (type, (1,)) / '(1,)type'.\n",
      "  _np_quint8 = np.dtype([(\"quint8\", np.uint8, 1)])\n",
      "/Users/olivier/.local/lib/python3.6/site-packages/tensorboard/compat/tensorflow_stub/dtypes.py:543: FutureWarning: Passing (type, 1) or '1type' as a synonym of type is deprecated; in a future version of numpy, it will be understood as (type, (1,)) / '(1,)type'.\n",
      "  _np_qint16 = np.dtype([(\"qint16\", np.int16, 1)])\n",
      "/Users/olivier/.local/lib/python3.6/site-packages/tensorboard/compat/tensorflow_stub/dtypes.py:544: FutureWarning: Passing (type, 1) or '1type' as a synonym of type is deprecated; in a future version of numpy, it will be understood as (type, (1,)) / '(1,)type'.\n",
      "  _np_quint16 = np.dtype([(\"quint16\", np.uint16, 1)])\n",
      "/Users/olivier/.local/lib/python3.6/site-packages/tensorboard/compat/tensorflow_stub/dtypes.py:545: FutureWarning: Passing (type, 1) or '1type' as a synonym of type is deprecated; in a future version of numpy, it will be understood as (type, (1,)) / '(1,)type'.\n",
      "  _np_qint32 = np.dtype([(\"qint32\", np.int32, 1)])\n",
      "/Users/olivier/.local/lib/python3.6/site-packages/tensorboard/compat/tensorflow_stub/dtypes.py:550: FutureWarning: Passing (type, 1) or '1type' as a synonym of type is deprecated; in a future version of numpy, it will be understood as (type, (1,)) / '(1,)type'.\n",
      "  np_resource = np.dtype([(\"resource\", np.ubyte, 1)])\n"
     ]
    }
   ],
   "source": [
    "#export\n",
    "import tensorflow as tf\n",
    "from tensorflow.keras.utils import plot_model\n",
    "from tensorflow.keras import Model, Input, layers\n",
    "from tensorflow.keras.layers import MaxPool2D, GlobalMaxPool2D, BatchNormalization, Activation\n",
    "from tensorflow.keras.layers import Conv2D, Concatenate,Flatten, Dense, Dropout"
   ]
  },
  {
   "cell_type": "markdown",
   "metadata": {},
   "source": [
    "## Count trainable parameters in model"
   ]
  },
  {
   "cell_type": "code",
   "execution_count": null,
   "metadata": {},
   "outputs": [],
   "source": [
    "#export\n",
    "def count_trainable_params(model):\n",
    "    p = 0\n",
    "    for layer in model.layers:\n",
    "        if len(layer.trainable_variables) == 0:\n",
    "            continue\n",
    "        else:\n",
    "            for variables in layer.trainable_variables:\n",
    "                a = variables.shape.as_list()\n",
    "                if len(a) == 1:\n",
    "                    p += a[0]\n",
    "                else:\n",
    "                    p += a[0]*a[1]\n",
    "    return p"
   ]
  },
  {
   "cell_type": "markdown",
   "metadata": {},
   "source": [
    "## Resnet block"
   ]
  },
  {
   "cell_type": "code",
   "execution_count": null,
   "metadata": {},
   "outputs": [],
   "source": [
    "#export\n",
    "def resnet_block(input_data, filters, conv_size):\n",
    "    x = layers.Conv2D(filters, conv_size, activation='relu', padding='same')(input_data)\n",
    "    x = layers.BatchNormalization()(x)\n",
    "    x = layers.Conv2D(filters, conv_size, activation=None, padding='same')(x)\n",
    "    x = layers.BatchNormalization()(x)\n",
    "    x = layers.Add()([x, input_data])\n",
    "    x = layers.Activation('relu')(x)\n",
    "    return x"
   ]
  },
  {
   "cell_type": "markdown",
   "metadata": {},
   "source": [
    "## Inception"
   ]
  },
  {
   "cell_type": "code",
   "execution_count": null,
   "metadata": {},
   "outputs": [],
   "source": [
    "#export\n",
    "def Inception(inputs, units = 8, strides = 1):\n",
    "    \"\"\"\n",
    "    naive google inception block\n",
    "    \"\"\"\n",
    "    x1 = Conv2D(units, 5, padding='same', activation = 'relu', strides = strides)(inputs)\n",
    "    x2 = Conv2D(units, 3, padding='same', activation = 'relu', strides = strides)(inputs)\n",
    "    x3 = Conv2D(units, 1, padding='same', activation = 'relu', strides = strides)(inputs)\n",
    "    outputs = Concatenate()([x1, x2, x3])    \n",
    "    return outputs"
   ]
  },
  {
   "cell_type": "markdown",
   "metadata": {},
   "source": [
    "## Molecular Mapping network"
   ]
  },
  {
   "cell_type": "code",
   "execution_count": null,
   "metadata": {},
   "outputs": [],
   "source": [
    "#export\n",
    "def MolMapNet(input_shape,\n",
    "              n_outputs = 1,\n",
    "              conv1_kernel_size=13,\n",
    "              dense_layers=[128, 32],\n",
    "              dense_avf='relu',\n",
    "              last_avf=None):\n",
    "    \"\"\"\n",
    "    parameters\n",
    "    ----------------------\n",
    "    molmap_shape: w, h, c\n",
    "    n_outputs: output units\n",
    "    dense_layers: list, how many dense layers and units\n",
    "    dense_avf: activation function for dense layers\n",
    "    last_avf: activation function for last layer\n",
    "    \"\"\"\n",
    "    tf.keras.backend.clear_session()\n",
    "    assert len(input_shape) == 3\n",
    "    inputs = Input(input_shape)\n",
    "\n",
    "    conv1 = Conv2D(48,  conv1_kernel_size, padding='same',\n",
    "                   activation='relu', strides=1)(inputs)\n",
    "\n",
    "    conv1 = MaxPool2D(pool_size=3, strides=2, padding='same')(conv1)  # p1\n",
    "\n",
    "    incept1 = Inception(conv1, strides=1, units=32)\n",
    "\n",
    "    incept1 = MaxPool2D(pool_size=3, strides=2, padding='same')(incept1)  # p2\n",
    "\n",
    "    incept2 = Inception(incept1, strides=1, units=64)\n",
    "\n",
    "    #flatten\n",
    "    x = GlobalMaxPool2D()(incept2)\n",
    "\n",
    "    ## dense layer\n",
    "    for units in dense_layers:\n",
    "        x = Dense(units, activation=dense_avf)(x)\n",
    "\n",
    "    #last layer\n",
    "    outputs = Dense(n_outputs, activation=last_avf)(x)\n",
    "\n",
    "    model = tf.keras.Model(inputs=inputs, outputs=outputs)\n",
    "\n",
    "    return model"
   ]
  },
  {
   "cell_type": "markdown",
   "metadata": {},
   "source": [
    "## Dual path Molecular Mapping network"
   ]
  },
  {
   "cell_type": "code",
   "execution_count": null,
   "metadata": {},
   "outputs": [],
   "source": [
    "#export\n",
    "def MolMapDualPathNet(molmap1_size, \n",
    "                    molmap2_size, \n",
    "                    n_outputs = 1,\n",
    "                    conv1_kernel_size = 13,\n",
    "                    dense_layers = [256, 128, 32], \n",
    "                    dense_avf = 'relu', \n",
    "                    last_avf = None):\n",
    "    \"\"\"\n",
    "    parameters\n",
    "    ----------------------\n",
    "    molmap1_size: w, h, c, shape of first molmap\n",
    "    molmap2_size: w, h, c, shape of second molmap\n",
    "    n_outputs: output units\n",
    "    dense_layers: list, how many dense layers and units\n",
    "    dense_avf: activation function for dense layers\n",
    "    last_avf: activation function for last layer\n",
    "    \"\"\"\n",
    "    tf.keras.backend.clear_session()\n",
    "    ## first inputs\n",
    "    d_inputs1 = Input(molmap1_size)\n",
    "    d_conv1 = Conv2D(48, conv1_kernel_size, padding = 'same', activation='relu', strides = 1)(d_inputs1)\n",
    "    d_pool1 = MaxPool2D(pool_size = 3, strides = 2, padding = 'same')(d_conv1) #p1\n",
    "    d_incept1 = Inception(d_pool1, strides = 1, units = 32)\n",
    "    d_pool2 = MaxPool2D(pool_size = 3, strides = 2, padding = 'same')(d_incept1) #p2\n",
    "    d_incept2 = Inception(d_pool2, strides = 1, units = 64)\n",
    "    d_flat1 = GlobalMaxPool2D()(d_incept2)\n",
    "\n",
    "    \n",
    "    ## second inputs\n",
    "    f_inputs1 = Input(molmap2_size)\n",
    "    f_conv1 = Conv2D(48, conv1_kernel_size, padding = 'same', activation='relu', strides = 1)(f_inputs1)\n",
    "    f_pool1 = MaxPool2D(pool_size = 3, strides = 2, padding = 'same')(f_conv1) #p1\n",
    "    f_incept1 = Inception(f_pool1, strides = 1, units = 32)\n",
    "    f_pool2 = MaxPool2D(pool_size = 3, strides = 2, padding = 'same')(f_incept1) #p2\n",
    "    f_incept2 = Inception(f_pool2, strides = 1, units = 64)\n",
    "    f_flat1 = GlobalMaxPool2D()(f_incept2)    \n",
    "    \n",
    "    ## concat\n",
    "    x = Concatenate()([d_flat1, f_flat1]) \n",
    "    \n",
    "    ## dense layer\n",
    "    for units in dense_layers:\n",
    "        x = Dense(units, activation = dense_avf)(x)\n",
    "\n",
    "    ## last layer\n",
    "    outputs = Dense(n_outputs, activation=last_avf)(x)\n",
    "    model = tf.keras.Model(inputs=[d_inputs1, f_inputs1], outputs=outputs)\n",
    "    \n",
    "    return model"
   ]
  },
  {
   "cell_type": "markdown",
   "metadata": {},
   "source": [
    "## Additive path Molecular Mapping network"
   ]
  },
  {
   "cell_type": "code",
   "execution_count": null,
   "metadata": {},
   "outputs": [],
   "source": [
    "#export\n",
    "def MolMapAddPathNet(molmap_shape,  additional_shape,\n",
    "                    n_outputs = 1,              \n",
    "                    dense_layers = [128, 32], \n",
    "                    dense_avf = 'relu', \n",
    "                    last_avf = None):\n",
    "    \n",
    "    \n",
    "    \"\"\"\n",
    "    parameters\n",
    "    ----------------------\n",
    "    molmap_shape: w, h, c\n",
    "    n_outputs: output units\n",
    "    dense_layers: list, how many dense layers and units\n",
    "    dense_avf: activation function for dense layers\n",
    "    last_avf: activation function for last layer\n",
    "    \"\"\"\n",
    "    tf.keras.backend.clear_session()\n",
    "    assert len(molmap_shape) == 3\n",
    "    inputs = Input(molmap_shape)\n",
    "    inputs_actvie_amount = Input(additional_shape)\n",
    "    \n",
    "    conv1 = Conv2D(48, 13, padding = 'same', activation='relu', strides = 1)(inputs)\n",
    "    \n",
    "    conv1 = MaxPool2D(pool_size = 3, strides = 2, padding = 'same')(conv1) #p1\n",
    "    \n",
    "    incept1 = Inception(conv1, strides = 1, units = 32)\n",
    "    \n",
    "    incept1 = MaxPool2D(pool_size = 3, strides = 2, padding = 'same')(incept1) #p2\n",
    "    \n",
    "    incept2 = Inception(incept1, strides = 1, units = 64)\n",
    "    \n",
    "    #flatten\n",
    "    x = GlobalMaxPool2D()(incept2)\n",
    "    x = tf.keras.layers.concatenate([x, inputs_actvie_amount], axis=-1)\n",
    "    \n",
    "    ## dense layer\n",
    "    for units in dense_layers:\n",
    "        x = Dense(units, activation = dense_avf)(x)\n",
    "        \n",
    "    #last layer\n",
    "    outputs = Dense(n_outputs,activation=last_avf)(x)\n",
    "    \n",
    "    \n",
    "    model = tf.keras.Model(inputs=[inputs, inputs_actvie_amount], outputs=outputs)\n",
    "    \n",
    "    return model"
   ]
  },
  {
   "cell_type": "markdown",
   "metadata": {},
   "source": [
    "## Residual Molecular Mapping network"
   ]
  },
  {
   "cell_type": "code",
   "execution_count": null,
   "metadata": {},
   "outputs": [],
   "source": [
    "#export\n",
    "def MolMapResNet(input_shape,\n",
    "                 num_resnet_blocks = 8,\n",
    "                n_outputs = 1, \n",
    "                dense_layers = [128, 32], \n",
    "                dense_avf = 'relu', \n",
    "                last_avf = None                \n",
    "                ):\n",
    "    \n",
    "    \n",
    "    \"\"\"\n",
    "    parameters\n",
    "    ----------------------\n",
    "    molmap_shape: w, h, c\n",
    "    num_resnet_blocks: int\n",
    "    n_outputs: output units\n",
    "    dense_layers: list, how many dense layers and units\n",
    "    dense_avf: activation function for dense layers\n",
    "    last_avf: activation function for last layer\n",
    "    \"\"\"\n",
    "    tf.keras.backend.clear_session()\n",
    "    inputs = tf.keras.Input(input_shape) #input_shape = (24, 24, 3)\n",
    "#     x = layers.Conv2D(32, 11, activation='relu')(inputs)\n",
    "#     x = layers.Conv2D(64, 3, activation='relu')(x)\n",
    "#     x = layers.MaxPooling2D(3)(x)\n",
    "    x = Conv2D(64,  13, padding = 'same', activation='relu', strides = 1)(inputs)\n",
    "    x = MaxPool2D(pool_size = 3, strides = 2, padding = 'same')(x) #p1\n",
    "    \n",
    "    ## renet block \n",
    "    for i in range(num_resnet_blocks):\n",
    "        x = resnet_block(x, 64, 3)\n",
    "\n",
    "    x = layers.Conv2D(256, 3, activation='relu')(x)\n",
    "    x = layers.GlobalMaxPool2D()(x)\n",
    "\n",
    "     ## dense layer\n",
    "    for units in dense_layers:\n",
    "        x = layers.Dense(units, activation = dense_avf)(x)\n",
    "        \n",
    "    #last layer\n",
    "    outputs = Dense(n_outputs,activation=last_avf)(x)\n",
    "    \n",
    "    model = tf.keras.Model(inputs=inputs, outputs=outputs)\n",
    "\n",
    "    return model"
   ]
  }
 ],
 "metadata": {
  "kernelspec": {
   "display_name": "Python 3",
   "language": "python",
   "name": "python3"
  }
 },
 "nbformat": 4,
 "nbformat_minor": 4
}
